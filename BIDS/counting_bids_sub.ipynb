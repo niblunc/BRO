{
 "cells": [
  {
   "cell_type": "markdown",
   "metadata": {},
   "source": [
    "BIDS Tracker\n"
   ]
  },
  {
   "cell_type": "code",
   "execution_count": 1,
   "metadata": {},
   "outputs": [],
   "source": [
    "import os, glob\n",
    "import pandas as pd \n",
    "subj_dict = {}\n",
    "SUBJECTS = sorted(glob.glob('/projects/niblab/bids_projects/Experiments/BRO/BIDS/sub-*'))\n",
    "for sub_dir in SUBJECTS:\n",
    "    sub_id = sub_dir.split(\"/\")[-1]\n",
    "    sessions=glob.glob(os.path.join(sub_dir, \"ses-*\"))\n",
    "    if sub_id not in subj_dict:\n",
    "        subj_dict[sub_id] = []\n",
    "    for sess in sessions:\n",
    "        subj_dict[sub_id].append(sess.split(\"/\")[-1])\n",
    "    \n",
    "df = pd.DataFrame.from_dict(subj_dict, orient='index')    "
   ]
  },
  {
   "cell_type": "markdown",
   "metadata": {},
   "source": [
    "             0      1  \n",
    "sub-001  ses-1  ses-2  \n",
    "sub-002  ses-1  ses-2  \n",
    "sub-003  ses-1  ses-2  \n",
    "sub-006  ses-1  ses-2   \n",
    "sub-008  ses-1  ses-2  \n",
    "sub-009  ses-1  ses-2  \n",
    "sub-010  ses-1  ses-2  \n",
    "sub-011  ses-1  ses-2  \n",
    "sub-012  ses-1  ses-2  \n",
    "sub-014  ses-1  ses-2  \n",
    "sub-015  ses-1  ses-2  \n",
    "sub-016  ses-1  ses-2  \n",
    "sub-023  ses-2   None  \n",
    "sub-028  ses-1  ses-2  \n",
    "sub-029  ses-1   None  \n",
    "sub-030  ses-1  ses-2  \n",
    "sub-031  ses-1  ses-2  \n",
    "sub-034  ses-1   None  \n",
    "sub-038  ses-1  ses-2  \n",
    "sub-040  ses-1   None  \n",
    "sub-041  ses-2   None  \n",
    "sub-043  ses-1  ses-2  \n",
    "sub-044  ses-1  ses-2  \n",
    "sub-045  ses-1  ses-2  \n",
    "sub-046  ses-1  ses-2  \n",
    "sub-047  ses-1  ses-2  \n",
    "sub-048  ses-1   None  \n",
    "sub-051  ses-1   None  \n",
    "sub-052  ses-1   None   "
   ]
  },
  {
   "cell_type": "code",
   "execution_count": null,
   "metadata": {},
   "outputs": [],
   "source": [
    "# Checking volumes"
   ]
  }
 ],
 "metadata": {
  "kernelspec": {
   "display_name": "Python 3",
   "language": "python",
   "name": "python3"
  },
  "language_info": {
   "codemirror_mode": {
    "name": "ipython",
    "version": 3
   },
   "file_extension": ".py",
   "mimetype": "text/x-python",
   "name": "python",
   "nbconvert_exporter": "python",
   "pygments_lexer": "ipython3",
   "version": "3.6.7"
  }
 },
 "nbformat": 4,
 "nbformat_minor": 2
}
