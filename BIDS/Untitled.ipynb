{
 "cells": [
  {
   "cell_type": "code",
   "execution_count": 1,
   "metadata": {},
   "outputs": [],
   "source": [
    "import pandas as pd\n",
    "import glob, os\n"
   ]
  },
  {
   "cell_type": "code",
   "execution_count": 12,
   "metadata": {},
   "outputs": [
    {
     "data": {
      "text/plain": [
       "0     ['sub-006/ses-1/anat/sub-006_ses-1_T1w.nii.gz'...\n",
       "1     ['sub-007/ses-1/anat/sub-007_ses-1_T1w.nii.gz'...\n",
       "2     ['sub-008/ses-1/anat/sub-008_ses-1_T1w.nii.gz'...\n",
       "3     ['sub-009/ses-1/anat/sub-009_ses-1_T1w.nii.gz'...\n",
       "4     ['sub-010/ses-1/anat/sub-010_ses-1_T1w.nii.gz'...\n",
       "5     ['sub-011/ses-1/anat/sub-011_ses-1_T1w.nii.gz'...\n",
       "6     ['sub-012/ses-1/anat/sub-012_ses-1_T1w.nii.gz'...\n",
       "7     ['sub-014/ses-1/anat/sub-014_ses-1_T1w.nii.gz'...\n",
       "8     ['sub-015/ses-1/anat/sub-015_ses-1_T1w.nii.gz'...\n",
       "9     ['sub-016/ses-1/anat/sub-016_ses-1_T1w.nii.gz'...\n",
       "10    ['sub-019/ses-1/anat/sub-019_ses-1_T1w.nii.gz'...\n",
       "11    ['sub-020/ses-1/anat/sub-020_ses-1_T1w.nii.gz'...\n",
       "12    ['sub-021/ses-1/anat/sub-021_ses-1_T1w.nii.gz'...\n",
       "13    ['sub-022/ses-1/anat/sub-022_ses-1_T1w.nii.gz'...\n",
       "14    ['sub-023/ses-1/anat/sub-023_ses-1_T1w.nii.gz'...\n",
       "15    ['sub-025/ses-1/anat/sub-025_ses-1_T1w.nii.gz'...\n",
       "16    ['sub-026/ses-1/anat/sub-026_ses-1_T1w.nii.gz'...\n",
       "17    ['sub-028/ses-1/anat/sub-028_ses-1_T1w.nii.gz'...\n",
       "18    ['sub-029/ses-1/anat/sub-029_ses-1_T1w.nii.gz'...\n",
       "19    ['sub-030/ses-1/anat/sub-030_ses-1_T1w.nii.gz'...\n",
       "20    ['sub-031/ses-1/anat/sub-031_ses-1_T1w.nii.gz'...\n",
       "21    ['sub-032/ses-1/anat/sub-032_ses-1_T1w.nii.gz'...\n",
       "22    ['sub-033/ses-1/anat/sub-033_ses-1_T1w.nii.gz'...\n",
       "23    ['sub-034/ses-1/anat/sub-034_ses-1_T1w.nii.gz'...\n",
       "24    ['sub-036/ses-1/anat/sub-036_ses-1_T1w.nii.gz'...\n",
       "25    ['sub-037/ses-1/anat/sub-037_ses-1_T1w.nii.gz'...\n",
       "26    ['sub-038/ses-1/anat/sub-038_ses-1_T1w.nii.gz'...\n",
       "27    ['sub-039/ses-1/anat/sub-039_ses-1_T1w.nii.gz'...\n",
       "28    ['sub-040/ses-1/anat/sub-040_ses-1_T1w.nii.gz'...\n",
       "29    ['sub-041/ses-1/anat/sub-041_ses-1_T1w.nii.gz'...\n",
       "30    ['sub-043/ses-1/anat/sub-043_ses-1_T1w.nii.gz'...\n",
       "31    ['sub-044/ses-1/anat/sub-044_ses-1_T1w.nii.gz'...\n",
       "32                                                   []\n",
       "33    ['sub-046/ses-1/anat/sub-046_ses-1_T1w.nii.gz'...\n",
       "34    ['sub-047/ses-1/anat/sub-047_ses-1_T1w.nii.gz'...\n",
       "35    ['sub-048/ses-1/anat/sub-048_ses-1_T1w.nii.gz'...\n",
       "36    ['sub-049/ses-1/anat/sub-049_ses-1_T1w.nii.gz'...\n",
       "37    ['sub-050/ses-1/anat/sub-050_ses-1_T1w.nii.gz'...\n",
       "38    ['sub-051/ses-1/anat/sub-051_ses-1_T1w.nii.gz'...\n",
       "39    ['sub-052/ses-1/anat/sub-052_ses-1_T1w.nii.gz'...\n",
       "40    ['sub-053/ses-1/anat/sub-053_ses-1_T1w.nii.gz'...\n",
       "41    ['sub-055/ses-1/anat/sub-055_ses-1_T1w.nii.gz'...\n",
       "42    ['sub-056/ses-1/anat/sub-056_ses-1_T1w.nii.gz'...\n",
       "Name: ANAT, dtype: object"
      ]
     },
     "execution_count": 12,
     "metadata": {},
     "output_type": "execute_result"
    }
   ],
   "source": [
    "df_s1=pd.read_csv('bids_s1.csv', sep=\"\\t\", header=0)\n",
    "df_s1[\"ANAT\"]"
   ]
  },
  {
   "cell_type": "code",
   "execution_count": null,
   "metadata": {},
   "outputs": [],
   "source": []
  }
 ],
 "metadata": {
  "kernelspec": {
   "display_name": "Python 3",
   "language": "python",
   "name": "python3"
  },
  "language_info": {
   "codemirror_mode": {
    "name": "ipython",
    "version": 3
   },
   "file_extension": ".py",
   "mimetype": "text/x-python",
   "name": "python",
   "nbconvert_exporter": "python",
   "pygments_lexer": "ipython3",
   "version": "3.6.9"
  }
 },
 "nbformat": 4,
 "nbformat_minor": 4
}
