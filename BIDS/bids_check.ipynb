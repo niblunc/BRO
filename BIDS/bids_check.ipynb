{
 "cells": [
  {
   "cell_type": "code",
   "execution_count": 48,
   "metadata": {},
   "outputs": [],
   "source": [
    "import pandas as pd\n",
    "import glob, os\n"
   ]
  },
  {
   "cell_type": "code",
   "execution_count": 50,
   "metadata": {},
   "outputs": [
    {
     "name": "stdout",
     "output_type": "stream",
     "text": [
      "Session: ses-1\n",
      "Session: ses-2\n"
     ]
    }
   ],
   "source": [
    "sessions=[\"ses-1\", \"ses-2\"]\n",
    "\n",
    "for sess_id in sessions:\n",
    "    df = pd.read_csv(\"bro_bids_%s.csv\"%sess_id, sep=\"\\t\", index_col=['Unnamed: 0'])\n",
    "    print(\"Session: {}\".format(sess_id))\n",
    "    #print(df.head())\n",
    "    df.index.name = sess_id\n",
    "    df.head()\n",
    "    zero_df = df.T\n",
    "    zero_df == 0\n",
    "    (zero_df ==0 ).all()\n",
    "    zero_df.columns[(zero_df==0).all()]\n",
    "    z_df = zero_df.loc[:, (zero_df == 0).all()]\n",
    "    z_df.to_csv(\"missing_files_%s.csv\"%sess_id, sep=\"\\t\")"
   ]
  },
  {
   "cell_type": "code",
   "execution_count": 51,
   "metadata": {},
   "outputs": [
    {
     "data": {
      "text/html": [
       "<div>\n",
       "<style scoped>\n",
       "    .dataframe tbody tr th:only-of-type {\n",
       "        vertical-align: middle;\n",
       "    }\n",
       "\n",
       "    .dataframe tbody tr th {\n",
       "        vertical-align: top;\n",
       "    }\n",
       "\n",
       "    .dataframe thead th {\n",
       "        text-align: right;\n",
       "    }\n",
       "</style>\n",
       "<table border=\"1\" class=\"dataframe\">\n",
       "  <thead>\n",
       "    <tr style=\"text-align: right;\">\n",
       "      <th>ses-1</th>\n",
       "      <th>sub-020</th>\n",
       "      <th>sub-037</th>\n",
       "      <th>sub-055</th>\n",
       "    </tr>\n",
       "  </thead>\n",
       "  <tbody>\n",
       "    <tr>\n",
       "      <td>anat</td>\n",
       "      <td>0</td>\n",
       "      <td>0</td>\n",
       "      <td>0</td>\n",
       "    </tr>\n",
       "    <tr>\n",
       "      <td>fmap</td>\n",
       "      <td>0</td>\n",
       "      <td>0</td>\n",
       "      <td>0</td>\n",
       "    </tr>\n",
       "    <tr>\n",
       "      <td>func</td>\n",
       "      <td>0</td>\n",
       "      <td>0</td>\n",
       "      <td>0</td>\n",
       "    </tr>\n",
       "    <tr>\n",
       "      <td>runs_pe</td>\n",
       "      <td>0</td>\n",
       "      <td>0</td>\n",
       "      <td>0</td>\n",
       "    </tr>\n",
       "    <tr>\n",
       "      <td>runs_rest</td>\n",
       "      <td>0</td>\n",
       "      <td>0</td>\n",
       "      <td>0</td>\n",
       "    </tr>\n",
       "    <tr>\n",
       "      <td>runs_train</td>\n",
       "      <td>0</td>\n",
       "      <td>0</td>\n",
       "      <td>0</td>\n",
       "    </tr>\n",
       "  </tbody>\n",
       "</table>\n",
       "</div>"
      ],
      "text/plain": [
       "ses-1       sub-020  sub-037  sub-055\n",
       "anat              0        0        0\n",
       "fmap              0        0        0\n",
       "func              0        0        0\n",
       "runs_pe           0        0        0\n",
       "runs_rest         0        0        0\n",
       "runs_train        0        0        0"
      ]
     },
     "execution_count": 51,
     "metadata": {},
     "output_type": "execute_result"
    }
   ],
   "source": [
    "df.index.name = \"ses-1\"\n",
    "df.head()\n",
    "zero_df = df.T\n",
    "zero_df == 0\n",
    "(zero_df ==0 ).all()\n",
    "zero_df.columns[(zero_df==0).all()]\n",
    "zero_df.loc[:, (zero_df == 0).all()]"
   ]
  },
  {
   "cell_type": "code",
   "execution_count": null,
   "metadata": {},
   "outputs": [],
   "source": []
  }
 ],
 "metadata": {
  "kernelspec": {
   "display_name": "Python 3",
   "language": "python",
   "name": "python3"
  },
  "language_info": {
   "codemirror_mode": {
    "name": "ipython",
    "version": 3
   },
   "file_extension": ".py",
   "mimetype": "text/x-python",
   "name": "python",
   "nbconvert_exporter": "python",
   "pygments_lexer": "ipython3",
   "version": "3.7.3"
  }
 },
 "nbformat": 4,
 "nbformat_minor": 4
}
