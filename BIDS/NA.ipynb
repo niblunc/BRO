{
 "cells": [
  {
   "cell_type": "code",
   "execution_count": null,
   "metadata": {},
   "outputs": [],
   "source": [
    "import glob, os\n",
    "import subprocess\n",
    "#/projects/niblab/bids_projects/Experiments/BRO/BIDS\n",
    "\n",
    "bids_dir_path = \"/projects/niblab/bids_projects/Experiments/BRO/BIDS\"\n",
    "subject_list = sorted(glob.glob(os.path.join(bids_dir_path, \"sub-*\")))\n",
    "sessions=['ses-1','ses-2']\n",
    "\n",
    "for sub_dir in sorted(subject_list):\n",
    "    for sess in sessions:\n",
    "        path=os.path.join(sub_dir, sess)\n",
    "        func_path=os.path.join(path,\"func\")\n",
    "        pe_tasks = glob.glob(os.path.join(func_path, \"*task-pe*nii.gz\"))\n",
    "        #print(pe_tasks)\n",
    "        for pe in pe_tasks:\n",
    "            print(\"FILENAME: {}\\n\".format(pe.split(\"/\")[-1]))\n",
    "            p=subprocess.check_output([\"fslnvols\", pe])\n",
    "            print(int(p))\n",
    "            #print(p.communicate())"
   ]
  }
 ],
 "metadata": {
  "kernelspec": {
   "display_name": "Python 3",
   "language": "python",
   "name": "python3"
  },
  "language_info": {
   "codemirror_mode": {
    "name": "ipython",
    "version": 3
   },
   "file_extension": ".py",
   "mimetype": "text/x-python",
   "name": "python",
   "nbconvert_exporter": "python",
   "pygments_lexer": "ipython3",
   "version": "3.6.7"
  }
 },
 "nbformat": 4,
 "nbformat_minor": 2
}
