{
 "cells": [
  {
   "cell_type": "code",
   "execution_count": 1,
   "metadata": {},
   "outputs": [],
   "source": [
    "from multiprocessing import Pool\n",
    "import glob\n",
    "import pandas as pd\n",
    "import argparse\n",
    "import os\n",
    "import subprocess\n",
    "import datetime\n",
    "import shutil"
   ]
  },
  {
   "cell_type": "code",
   "execution_count": null,
   "metadata": {},
   "outputs": [],
   "source": [
    "def skull_strip(sub, func_input_path, func_output_path):\n",
    "    print(\">>>>---> starting bet on \", sub )\n",
    "    try:\n",
    "        for nifti in glob.glob(os.path.join(func_input_path, '*-preproc_bold.nii.gz*')):\n",
    "            # make our variables\n",
    "            print(\"NIFTI: \", nifti)\n",
    "            print(func_output_path)\n",
    "            filename = nifti.split(\"/\")[-1].split(\".\")[0]\n",
    "            bet_name=filename+'_brain'\n",
    "            # check if data exists already\n",
    "            bet_output = os.path.join(func_output_path, bet_name)\n",
    "            if os.path.exists(bet_output + '.nii'):\n",
    "                print(bet_output + ' exists, skipping \\n')\n",
    "            else:\n",
    "                print(\"Running bet on \", nifti)\n",
    "                bet_cmd=(\"bet %s %s -F -m -f %s\"%(nifti, bet_output, arglist[\"STRIP\"]))\n",
    "                print(\">>>-----> BET COMMAND:\", bet_cmd)\n",
    "                #shutil.copy(nifti, func_output_path)\n",
    "                os.system(bet_cmd)\n",
    "    except FileNotFoundError:\n",
    "        pass"
   ]
  }
 ],
 "metadata": {
  "kernelspec": {
   "display_name": "Python 3",
   "language": "python",
   "name": "python3"
  },
  "language_info": {
   "codemirror_mode": {
    "name": "ipython",
    "version": 3
   },
   "file_extension": ".py",
   "mimetype": "text/x-python",
   "name": "python",
   "nbconvert_exporter": "python",
   "pygments_lexer": "ipython3",
   "version": "3.7.3"
  }
 },
 "nbformat": 4,
 "nbformat_minor": 4
}
