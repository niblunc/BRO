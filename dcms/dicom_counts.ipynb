{
 "cells": [
  {
   "cell_type": "markdown",
   "metadata": {},
   "source": [
    "## On RENCI  \n",
    "### session 1  \n",
    "**The directory-**  \n",
    "`$ pwd`  \n",
    "`/projects/niblab/bids_projects/Experiments/bro/BIDS/sourcedata/DICOM/ses-1`    \n",
    "**Number of subjects on RENCI-**    \n",
    "`$ ls | wc -l`  \n",
    "`50`  \n",
    "**The subjects-**  \n",
    "`$ echo sub-*`  \n",
    "`sub-003 sub-004 sub-006 sub-007 sub-008 sub-009 sub-010 sub-011 sub-012 sub-013 sub-014 sub-015 sub-016 sub-017 sub-018 sub-019 sub-020 sub-021 sub-022 sub-023 sub-025 sub-026 sub-028 sub-029 sub-030 sub-031 sub-032 sub-033 sub-034 sub-035 sub-036 sub-037 sub-038 sub-039 sub-040 sub-041 sub-043 sub-044 sub-045 sub-046 sub-047 sub-048 sub-049 sub-050 sub-051 sub-052 sub-053 sub-054 sub-055 sub-056`  \n",
    "  \n",
    "\n",
    "### session 2: \n",
    "**The directory-**  \n",
    "`$ pwd`  \n",
    "`/projects/niblab/bids_projects/Experiments/bro/BIDS/sourcedata/DICOM/ses-2`  \n",
    "**Number of subjects on RENCI-**   \n",
    "`$ ls | wc -l`  \n",
    "`50`  \n",
    "**The subjects-**  \n",
    "`$ echo sub-*`  \n",
    "`sub-001 sub-002 sub-003 sub-004 sub-006 sub-007 sub-008 sub-009 sub-010 sub-011 sub-012 sub-013 sub-014 sub-015 sub-016 sub-017 sub-018 sub-019 sub-021 sub-022 sub-023 sub-025 sub-026 sub-027 sub-028 sub-029 sub-030 sub-031 sub-032 sub-033 sub-034 sub-036 sub-038 sub-039 sub-040 sub-041 sub-042 sub-043 sub-044 sub-045 sub-046 sub-047 sub-048 sub-049 sub-050 sub-051 sub-052 sub-053 sub-054 sub-056`"
   ]
  },
  {
   "cell_type": "markdown",
   "metadata": {},
   "source": [
    "Now we make a list of the expected IDs, 1-56. *exceptions may apply, see documetation*."
   ]
  },
  {
   "cell_type": "code",
   "execution_count": 7,
   "metadata": {},
   "outputs": [
    {
     "name": "stdout",
     "output_type": "stream",
     "text": [
      "[1, 2, 3, 4, 5, 6, 7, 8, 9, 10, 11, 12, 13, 14, 15, 16, 17, 18, 19, 20, 21, 22, 23, 24, 25, 26, 27, 28, 29, 30, 31, 32, 33, 34, 35, 36, 37, 38, 39, 40, 41, 42, 43, 44, 45, 46, 47, 48, 49, 50, 51, 52, 53, 54, 55, 56]\n"
     ]
    }
   ],
   "source": [
    "import glob, os\n",
    "expected_sub_lst=list(range(1,57)) # Expecting subject IDs 1-56\n",
    "print(expected_sub_lst)"
   ]
  },
  {
   "cell_type": "markdown",
   "metadata": {},
   "source": [
    "Gather and format our IDs from RENCI and compare to expected list to find missing subjects in each session."
   ]
  },
  {
   "cell_type": "code",
   "execution_count": 8,
   "metadata": {},
   "outputs": [],
   "source": [
    "ses1_bids=[x.split(\"/\")[-3].split(\"-\")[1].lstrip(\"0\") for x in \n",
    "           glob.glob(\"/projects/niblab/bids_projects/Experiments/bro/bids/sub-*/ses-1/func\")]\n",
    "ses2_bids=[x.split(\"/\")[-3].split(\"-\")[1].lstrip(\"0\") for x in \n",
    "           glob.glob(\"/projects/niblab/bids_projects/Experiments/bro/bids/sub-*/ses-2/func\")]\n",
    "       "
   ]
  },
  {
   "cell_type": "code",
   "execution_count": 17,
   "metadata": {},
   "outputs": [],
   "source": [
    "import numpy as np\n",
    "s1_mia = np.setdiff1d(expected_sub_lst,ses1_bids)\n",
    "s2_mia = np.setdiff1d(expected_sub_lst,ses2_bids)"
   ]
  },
  {
   "cell_type": "code",
   "execution_count": 26,
   "metadata": {},
   "outputs": [
    {
     "name": "stdout",
     "output_type": "stream",
     "text": [
      "Subjects missing from RENCI: \n",
      "session 1: \t[ 1  2  5 24 27 42] \n",
      "session 2: \t[ 5 20 24 35 37 55] \n"
     ]
    }
   ],
   "source": [
    "print(\"Subjects missing from RENCI: \\nsession 1: \\t{} \\nsession 2: \\t{} \".format(s1_mia, s2_mia))"
   ]
  }
 ],
 "metadata": {
  "kernelspec": {
   "display_name": "Python 3",
   "language": "python",
   "name": "python3"
  },
  "language_info": {
   "codemirror_mode": {
    "name": "ipython",
    "version": 3
   },
   "file_extension": ".py",
   "mimetype": "text/x-python",
   "name": "python",
   "nbconvert_exporter": "python",
   "pygments_lexer": "ipython3",
   "version": "3.6.9"
  }
 },
 "nbformat": 4,
 "nbformat_minor": 4
}
