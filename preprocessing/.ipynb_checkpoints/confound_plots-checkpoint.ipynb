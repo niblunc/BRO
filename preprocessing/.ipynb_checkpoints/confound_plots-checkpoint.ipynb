{
 "cells": [
  {
   "cell_type": "code",
   "execution_count": null,
   "metadata": {},
   "outputs": [],
   "source": [
    "import glob, os\n",
    "import pandas as pd\n",
    "from IPython.core import display as ICD\n",
    "import matplotlib.pyplot as plt\n",
    "\n",
    "%matplotlib inline "
   ]
  },
  {
   "cell_type": "code",
   "execution_count": null,
   "metadata": {},
   "outputs": [],
   "source": [
    "# get our data files\n",
    "subjects = sorted([x.split('/')[-1] for x in glob.glob(os.path.join('/projects/niblab/bids_projects/Experiments/bro/bids/derivatives/fmriprep++/fmriprep/sub-*')) if \".html\" not in x])\n",
    "moco_cols = ['trans_x', 'trans_y', 'trans_z', 'rot_x', 'rot_y', 'rot_z']\n",
    "mot_outliers=['motion_outlier00', 'motion_outlier01', 'motion_outlier02',\n",
    "              'motion_outlier03','motion_outlier04', 'motion_outlier05']\n"
   ]
  },
  {
   "cell_type": "code",
   "execution_count": null,
   "metadata": {},
   "outputs": [],
   "source": [
    "\n",
    "sess=\"ses-2\"\n",
    "tasks=[\"pe\", \"training\"]\n",
    "runs=[\"run-1\", \"run-2\"]\n",
    "\n",
    "for sub in subjects:\n",
    "    print(\"\\n\\nSubject: \", sub)\n",
    "    for task in tasks:\n",
    "        for run in runs:\n",
    "    \n",
    "            try:\n",
    "                plt.figure()\n",
    "\n",
    "                tsv=os.path.join(\"/projects/niblab/bids_projects/Experiments/bro/bids/derivatives/fmriprep++/fmriprep/{}/{}/func/{}_{}_task-{}_{}_desc-confounds_regressors.tsv\".format(sub,sess, sub, sess, task, run))\n",
    "                #print(tsv)\n",
    "                tsv_df = pd.read_csv(tsv, sep='\\t')\n",
    "                tsv_df.rename_axis(\"time(s)\", inplace=True)\n",
    "                #print(tsv_df.head())\n",
    "                #for x in moco_cols:\n",
    "                 #   tsv_df[x].plot(kind='line',xlim=(0,200),ylim=(-.7,.6))\n",
    "                min_pt = tsv_df['std_dvars'].min() - .3\n",
    "                max_pt = tsv_df['std_dvars'].max() + .3\n",
    "                max_time_pt = tsv_df.index.stop\n",
    "                spikes=[]\n",
    "                for index,pt in tsv_df['std_dvars'].iteritems():\n",
    "                    if pt > 3:\n",
    "                        spikes.append((round(pt,2), index))\n",
    "\n",
    "                # plot \n",
    "                tsv_df['std_dvars'].plot(kind='line', color='r',label=\"std_dvars\", title=\"{}: {} {}\".format(sess,task, run))#,xlim=(0, max_time_pt),ylim=(min_pt, max_pt), title=\"{}: {}\".format(sub[0],sub[1]), color='r')\n",
    "                tsv_df['framewise_displacement'].plot(kind='line', color='steelblue', label=\"fd\")#,xlim=(0, max_time_pt),ylim=(min_pt, max_pt), title=\"{}: {}\".format(sub[0],sub[1]), color='r')\n",
    "                plt.legend(loc=\"upper left\")\n",
    "\n",
    "                plt.show()\n",
    "                print(\"Spike count: {} \\nSpikes found: \".format(len(spikes)))\n",
    "                for x in spikes:\n",
    "                    print(\"Time: {} \\t| Spike: {}\".format(x[1], x[0]) )\n",
    "            except:\n",
    "                print(sub, sess, task, run)\n",
    "\n",
    "            "
   ]
  }
 ],
 "metadata": {
  "kernelspec": {
   "display_name": "Python 3",
   "language": "python",
   "name": "python3"
  },
  "language_info": {
   "codemirror_mode": {
    "name": "ipython",
    "version": 3
   },
   "file_extension": ".py",
   "mimetype": "text/x-python",
   "name": "python",
   "nbconvert_exporter": "python",
   "pygments_lexer": "ipython3",
   "version": "3.7.3"
  }
 },
 "nbformat": 4,
 "nbformat_minor": 4
}
