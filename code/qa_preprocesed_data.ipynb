{
 "cells": [
  {
   "cell_type": "code",
   "execution_count": null,
   "metadata": {},
   "outputs": [],
   "source": [
    "import os, glob\n",
    "import subprocess\n",
    "from subprocess import check_output\n",
    "import pandas as pd\n",
    "import re\n",
    "\n",
    "pd.set_option('display.max_rows', 200)\n"
   ]
  },
  {
   "cell_type": "code",
   "execution_count": null,
   "metadata": {},
   "outputs": [],
   "source": [
    "def check_files(dir_path, sub_id,session, data_dict):\n",
    "    \n",
    "    funcs = glob.glob(os.path.join(dir_path, sub_id, session, \"func/*brain.nii.gz\"))\n",
    "    func_ct = len(funcs)\n",
    "    data_dict[sub_id][session][\"func_ct\"] = func_ct\n",
    "\n",
    "    anat = glob.glob(os.path.join(dir_path, sub_id, session, \"anat/*\"))\n",
    "    anat_ct = len(anat) \n",
    "    data_dict[sub_id][session][\"anat_ct\"] = anat_ct\n",
    "\n",
    "\n",
    "    exp = \"{}_{}*.txt\".format(sub_id, session)\n",
    "    onsets = glob.glob('/projects/niblab/bids_projects/Experiments/bro/bids/derivatives/code/output_onsets/%s'%exp)\n",
    "    onset_ct = len(onsets)\n",
    "    data_dict[sub_id][session][\"onset_ct\"] = onset_ct\n",
    "\n",
    "    \n",
    "    confounds = glob.glob(os.path.join(dir_path, sub_id, session, \"func/motion_assessment/*.txt\"))\n",
    "    confound_ct = len(confounds) \n",
    "    data_dict[sub_id][session][\"confound_ct\"] = confound_ct\n",
    "\n",
    "    \n",
    "    mocos = glob.glob(os.path.join(dir_path, sub_id, session, \"func/motion_assessment/motion_parameters/*.txt\"))\n",
    "    moco_ct = len(mocos) \n",
    "    data_dict[sub_id][session][\"moco_ct\"] = moco_ct\n",
    "     \n",
    "preproc_path=\"/projects/niblab/bids_projects/Experiments/bro/bids/derivatives/preprocessed\"\n",
    "sessions = ['ses-1', 'ses-2']\n",
    "data_dict = {}\n",
    "\n",
    "\n",
    "for session in sessions:\n",
    "    subjects = sorted(glob.glob(os.path.join(preproc_path, 'sub-*', session)))\n",
    "    sub_ids = [x.split(\"/\")[-2] for x in subjects]\n",
    "    subjects_ct = len(subjects)\n",
    "    print(\"Subject {} count: {}\".format(session, subjects_ct))\n",
    "    #print(\"{} subjects: \\n{} \\n\".format(session, sub_ids))\n",
    "\n",
    "    for sub_id in sub_ids:\n",
    "        if sub_id not in data_dict:\n",
    "            data_dict[sub_id] = {}\n",
    "            \n",
    "        if session not in data_dict[sub_id]:\n",
    "            data_dict[sub_id][session] = {}\n",
    "            \n",
    "        \n",
    "        check_files(preproc_path, sub_id, session, data_dict)\n",
    "\n",
    "df = pd.concat({k: pd.DataFrame(v).T for k, v in data_dict.items()}, axis=0)\n",
    "\n",
    "display(df)\n",
    "\n",
    "    "
   ]
  }
 ],
 "metadata": {
  "kernelspec": {
   "display_name": "Python 3",
   "language": "python",
   "name": "python3"
  },
  "language_info": {
   "codemirror_mode": {
    "name": "ipython",
    "version": 3
   },
   "file_extension": ".py",
   "mimetype": "text/x-python",
   "name": "python",
   "nbconvert_exporter": "python",
   "pygments_lexer": "ipython3",
   "version": "3.7.4"
  },
  "widgets": {
   "application/vnd.jupyter.widget-state+json": {
    "state": {},
    "version_major": 2,
    "version_minor": 0
   }
  }
 },
 "nbformat": 4,
 "nbformat_minor": 4
}
