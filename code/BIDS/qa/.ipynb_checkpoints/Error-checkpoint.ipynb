{
 "cells": [
  {
   "cell_type": "markdown",
   "metadata": {},
   "source": [
    "# BIDS Errors:"
   ]
  },
  {
   "cell_type": "markdown",
   "metadata": {},
   "source": [
    "\t1: You have to define 'EchoTime1' and 'EchoTime2' for this file. (code: 15 - ECHO_TIME1-2_NOT_DEFINED)\n",
    "\t\t./sub-008/ses-2/fmap/sub-008_ses-2_phasediff.nii.gz\n",
    "\t\t./sub-010/ses-1/fmap/sub-010_ses-1_phasediff.nii.gz\n",
    "\t\t./sub-037/ses-1/fmap/sub-037_ses-1_phasediff.nii.gz\n",
    "\t\t./sub-052/ses-1/fmap/sub-052_ses-1_phasediff.nii.gz\n",
    "\t\t./sub-055/ses-1/fmap/sub-055_ses-1_phasediff.nii.gz  \n",
    "        \tPlease visit https://neurostars.org/search?q=ECHO_TIME1-2_NOT_DEFINED for existing conversations about this issue.\n",
    "\n",
    "\t2: Participant labels found in this dataset did not match the values in participant_id column found in the participants.tsv file. (code: 49 - PARTICIPANT_ID_MISMATCH)\n",
    "\t\t./participants.tsv\n",
    "\t\t\tEvidence: participants.tsv: 001, 002, 003, 006, 008, 009, 010, 011, 012, 014, 015, 016, 023, 028, 029, 030, 031, 032, 033, 034, 036, 038, 039, 040, 041, 042, 043, 044, 045, 046, 047, 048, 049, 050, 051, 052, 053, 055 folder structure: 001, 002, 003, 006, 008, 009, 010, 011, 012, 014, 015, 016, 023, 028, 029, 030, 031, 032, 033, 034, 036, 037, 038, 039, 040, 041, 042, 043, 044, 045, 046, 047, 048, 049, 050, 051, 052, 053, 055\n",
    "\n",
    "\t3: Bold scans must be 4 dimensional. (code: 54 - BOLD_NOT_4D)\n",
    "\t\t./sub-050/ses-2/func/sub-050_ses-2_task-training_run-1_bold.nii.gz\n",
    "\t\t\tEvidence: header field \"dim\" = 3,70,70,36\n",
    "\n",
    "        Summary:                   Available Tasks:                         Available Modalities: \n",
    "        1507 Files, 12.78GB        pe                                       T1w                   \n",
    "        39 - Subjects              resting                                  bold                  \n",
    "        2 - Sessions               training                                 fieldmap              \n",
    "                                   TODO: full task name for pe                                    \n",
    "                                   TODO: full task name for resting                               \n",
    "                                   TODO: full task name for training"
   ]
  },
  {
   "cell_type": "markdown",
   "metadata": {},
   "source": [
    "`Singularity> bids-validator --ignoreWarnings .\n",
    "This dataset appears to be BIDS compatible.\n",
    "\n",
    "        Summary:                   Available Tasks:                         Available Modalities: \n",
    "        1442 Files, 12.21GB        pe                                       T1w                   \n",
    "        37 - Subjects              resting                                  bold                  \n",
    "        2 - Sessions               training                                 events                \n",
    "                                   TODO: full task name for pe              fieldmap              \n",
    "                                   TODO: full task name for training                              \n",
    "                                   TODO: full task name for resting                               \n",
    "\n",
    "\n",
    "\tIf you have any questions, please post on https://neurostars.org/tags/bids.`"
   ]
  }
 ],
 "metadata": {
  "kernelspec": {
   "display_name": "Python 3",
   "language": "python",
   "name": "python3"
  },
  "language_info": {
   "codemirror_mode": {
    "name": "ipython",
    "version": 3
   },
   "file_extension": ".py",
   "mimetype": "text/x-python",
   "name": "python",
   "nbconvert_exporter": "python",
   "pygments_lexer": "ipython3",
   "version": "3.6.7"
  }
 },
 "nbformat": 4,
 "nbformat_minor": 2
}
