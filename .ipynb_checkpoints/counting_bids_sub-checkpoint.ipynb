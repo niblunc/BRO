{
 "cells": [
  {
   "cell_type": "markdown",
   "metadata": {},
   "source": [
    "BIDS Tracker\n"
   ]
  },
  {
   "cell_type": "code",
   "execution_count": null,
   "metadata": {},
   "outputs": [],
   "source": [
    "import os, glob\n",
    "\n",
    "SUBJECTS = sorted(glob.glob('/projects/niblab/bids_projects/Experiments/BRO/BIDS/sub-*'))\n",
    "subject_list = []\n",
    "for sub_dir in SUBJECTS:\n",
    "    temp_ = []\n",
    "    sub_id = sub_dir.split(\"/\")[-1]\n",
    "    sessions=glob.glob(os.path.join(sub_dir, \"ses-*\"))\n",
    "    temp_.append(sub_id)\n",
    "    for sess in sessions:\n",
    "        temp_.append(sess.split(\"/\")[-1])\n",
    "    subject_list.append(temp_)"
   ]
  },
  {
   "cell_type": "markdown",
   "metadata": {},
   "source": [
    "05/20 :  \n",
    "[['sub-001', 'ses-1', 'ses-2'],  \n",
    " ['sub-002', 'ses-1', 'ses-2'],  \n",
    " ['sub-003', 'ses-1', 'ses-2'],  \n",
    " ['sub-006', 'ses-1', 'ses-2'],  \n",
    " ['sub-008', 'ses-1', 'ses-2'],  \n",
    " ['sub-009', 'ses-1', 'ses-2'],  \n",
    " ['sub-010', 'ses-1', 'ses-2'],  \n",
    " ['sub-011', 'ses-1', 'ses-2'],  \n",
    " ['sub-012', 'ses-1', 'ses-2'],  \n",
    " ['sub-014', 'ses-1', 'ses-2'],  \n",
    " ['sub-015', 'ses-1', 'ses-2'],  \n",
    " ['sub-016', 'ses-1', 'ses-2'],  \n",
    " ['sub-023', 'ses-2'],  \n",
    " ['sub-028', 'ses-1', 'ses-2'],  \n",
    " ['sub-029', 'ses-1'],  \n",
    " ['sub-030', 'ses-1', 'ses-2'],  \n",
    " ['sub-031', 'ses-1', 'ses-2'],  \n",
    " ['sub-034', 'ses-1'],  \n",
    " ['sub-038', 'ses-1', 'ses-2'],  \n",
    " ['sub-040', 'ses-1'],  \n",
    " ['sub-041', 'ses-2']]  "
   ]
  },
  {
   "cell_type": "code",
   "execution_count": null,
   "metadata": {},
   "outputs": [],
   "source": []
  },
  {
   "cell_type": "code",
   "execution_count": null,
   "metadata": {},
   "outputs": [],
   "source": []
  }
 ],
 "metadata": {
  "kernelspec": {
   "display_name": "Python 3",
   "language": "python",
   "name": "python3"
  },
  "language_info": {
   "codemirror_mode": {
    "name": "ipython",
    "version": 3
   },
   "file_extension": ".py",
   "mimetype": "text/x-python",
   "name": "python",
   "nbconvert_exporter": "python",
   "pygments_lexer": "ipython3",
   "version": "3.6.5"
  }
 },
 "nbformat": 4,
 "nbformat_minor": 2
}
